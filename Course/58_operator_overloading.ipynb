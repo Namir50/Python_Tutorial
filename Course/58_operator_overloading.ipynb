{
 "cells": [
  {
   "cell_type": "code",
   "execution_count": null,
   "metadata": {},
   "outputs": [],
   "source": [
    "#common operator overloading magic methods\n",
    "'''\n",
    "__add__(self,other) : adds two objects using + operator\n",
    "__sub__(self,other) : subtracts two objects using - operator\n",
    "__mul__(self,other) : multiplies two objects using * operator\n",
    "__truediv__(self,other) : divides two objects using / operator\n",
    "__floordiv__(self,other) : divides two objects using // operator\n",
    "__eq__(self,othet) : checks equality of two objects using == operator\n",
    "__lt__(self,other) : checks less than of two objects using < operator\n",
    "'''"
   ]
  }
 ],
 "metadata": {
  "language_info": {
   "name": "python"
  }
 },
 "nbformat": 4,
 "nbformat_minor": 2
}
