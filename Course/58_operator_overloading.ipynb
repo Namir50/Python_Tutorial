{
 "cells": [
  {
   "cell_type": "code",
   "execution_count": null,
   "metadata": {},
   "outputs": [],
   "source": [
    "#common operator overloading magic methods\n",
    "'''\n",
    "__add__(self,other) : adds two objects using + operator\n",
    "__sub__(self,other) : subtracts two objects using - operator\n",
    "__mul__(self,other) : multiplies two objects using * operator\n",
    "__truediv__(self,other) : divides two objects using / operator\n",
    "__floordiv__(self,other) : divides two objects using // operator\n",
    "__eq__(self,othet) : checks equality of two objects using == operator\n",
    "__lt__(self,other) : checks less than of two objects using < operator\n",
    "'''"
   ]
  },
  {
   "cell_type": "code",
   "execution_count": 2,
   "metadata": {},
   "outputs": [
    {
     "name": "stdout",
     "output_type": "stream",
     "text": [
      "Vector(5,6)\n",
      "Vector(50,72)\n",
      "Vector(5,6)\n"
     ]
    }
   ],
   "source": [
    "\n",
    "class Vector:\n",
    "    def __init__(self,x,y):\n",
    "        self.x = x\n",
    "        self.y = y\n",
    "    \n",
    "    def __add__(self,other):\n",
    "        return Vector(self.x + other.x, self.y + other.y)\n",
    "    \n",
    "    def __sub__(self,other):\n",
    "        return Vector(self.x - other.x, self.y - other.y)\n",
    "    \n",
    "    def __mul__(self,other):\n",
    "        return Vector(self.x * other.x, self.y * other.y)\n",
    "    \n",
    "    def __eq__(self, other):\n",
    "        return Vector(self.x == other.x and self.y == other.y)\n",
    "    \n",
    "    def __repr__(self):\n",
    "        return f\"Vector({self.x},{self.y})\"\n",
    "\n",
    "\n",
    "v1 = Vector(10,12)\n",
    "v2 = Vector(5,6)\n",
    "\n",
    "print(v1-v2)\n",
    "print(v1*v2)\n",
    "print(v1-v2)"
   ]
  }
 ],
 "metadata": {
  "kernelspec": {
   "display_name": "Python 3",
   "language": "python",
   "name": "python3"
  },
  "language_info": {
   "codemirror_mode": {
    "name": "ipython",
    "version": 3
   },
   "file_extension": ".py",
   "mimetype": "text/x-python",
   "name": "python",
   "nbconvert_exporter": "python",
   "pygments_lexer": "ipython3",
   "version": "3.12.5"
  }
 },
 "nbformat": 4,
 "nbformat_minor": 2
}
