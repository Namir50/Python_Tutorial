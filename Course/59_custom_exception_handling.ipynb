{
 "cells": [
  {
   "cell_type": "code",
   "execution_count": null,
   "metadata": {},
   "outputs": [
    {
     "name": "stdout",
     "output_type": "stream",
     "text": [
      "You are valid for admission\n"
     ]
    }
   ],
   "source": [
    "class Error(Exception):  #GENERIC ERROR\n",
    "    pass\n",
    "\n",
    "class dobException2(Error): #derived class which we can use\n",
    "    pass\n",
    "\n",
    "class dobException(Exception):\n",
    "    pass\n",
    "\n",
    "year  = int(input(\"enter date of year\"))\n",
    "age = 2024 - year\n",
    "\n",
    "try:\n",
    "    if age>=18 and age<=30:\n",
    "        print(\"You are valid for admission\")\n",
    "    else:\n",
    "        raise dobException\n",
    "except dobException:\n",
    "    print(\"You are not valid for admission\")"
   ]
  }
 ],
 "metadata": {
  "kernelspec": {
   "display_name": "Python 3",
   "language": "python",
   "name": "python3"
  },
  "language_info": {
   "codemirror_mode": {
    "name": "ipython",
    "version": 3
   },
   "file_extension": ".py",
   "mimetype": "text/x-python",
   "name": "python",
   "nbconvert_exporter": "python",
   "pygments_lexer": "ipython3",
   "version": "3.12.5"
  }
 },
 "nbformat": 4,
 "nbformat_minor": 2
}
