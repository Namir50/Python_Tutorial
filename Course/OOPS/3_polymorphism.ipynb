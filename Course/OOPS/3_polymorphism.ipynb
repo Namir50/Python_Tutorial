{
 "cells": [
  {
   "cell_type": "markdown",
   "metadata": {},
   "source": [
    "<h3>Polymorphism<h3>\n",
    "<h5>Polymorphism is a core concept in Object Oriented Programming that allows objects of different classes to be treated as objects of a common superclass. It provides a way to perform a single action in different forms. Polymorphism is typically achieved through method overriding and interface(abstract base class)<h5>"
   ]
  },
  {
   "cell_type": "markdown",
   "metadata": {},
   "source": [
    "## Method Overriding\n",
    "Method overidding allows a child class to provide a specific implementation of a method that is already defined in tis parent class"
   ]
  },
  {
   "cell_type": "code",
   "execution_count": 5,
   "metadata": {},
   "outputs": [
    {
     "name": "stdout",
     "output_type": "stream",
     "text": [
      "Woof\n"
     ]
    }
   ],
   "source": [
    "#Base class\n",
    "class Animal:\n",
    "    def speak(self):\n",
    "        return \"I make sounds\"\n",
    "\n",
    "#Derived class\n",
    "class Dog(Animal):\n",
    "    def speak(self):\n",
    "        return \"Woof\"\n",
    "\n",
    "#Derived class\n",
    "class Cat(Animal):\n",
    "    def speak(self):\n",
    "        return  \"Meow\"\n",
    "\n",
    "#Dunction that demonstrated polymorphism\n",
    "def sound(animal):\n",
    "    print(animal.speak())\n",
    "\n",
    "dog = Dog()\n",
    "sound(dog)"
   ]
  },
  {
   "cell_type": "code",
   "execution_count": 11,
   "metadata": {},
   "outputs": [
    {
     "name": "stdout",
     "output_type": "stream",
     "text": [
      "The area is 150\n",
      "The area is 1384.74\n"
     ]
    }
   ],
   "source": [
    "#Polymorphism using functions an methods\n",
    "class Shape:\n",
    "    def area(self):\n",
    "        return 'The area of the shape'\n",
    "    \n",
    "class Rectangle(Shape):\n",
    "    def __init__(self,length,breadth):\n",
    "        self.length = length\n",
    "        self.breadth = breadth\n",
    "    \n",
    "    def area(self):\n",
    "        return self.breadth  * self.length\n",
    "    \n",
    "class Circle(Shape):\n",
    "    def __init__(self,radius):\n",
    "        self.radius = radius\n",
    "    \n",
    "    def area(self):\n",
    "        return 3.14 * self.radius ** 2\n",
    "    \n",
    "def show_shape(shape):\n",
    "    print(f\"The area is {shape.area()}\")\n",
    "    \n",
    "\n",
    "r1 = Rectangle(10,15)\n",
    "show_shape(r1)\n",
    "\n",
    "c1 = Circle(21)\n",
    "show_shape(c1)\n"
   ]
  },
  {
   "cell_type": "markdown",
   "metadata": {},
   "source": [
    "## Abstract Base class \n",
    "Abstract Base Class are used to define commmon methods for a group o related object. They can enforce that derived classes implement particular methods, promoting consistency across different implementation"
   ]
  },
  {
   "cell_type": "code",
   "execution_count": 13,
   "metadata": {},
   "outputs": [
    {
     "name": "stdout",
     "output_type": "stream",
     "text": [
      "Car engine started\n",
      "Bike engine started\n"
     ]
    }
   ],
   "source": [
    "from abc import ABC, abstractclassmethod\n",
    "\n",
    "class Vehicle:\n",
    "    @abstractclassmethod\n",
    "    def start_engine(self):\n",
    "        pass\n",
    "\n",
    "class Car(Vehicle):\n",
    "    def start_engine(self):\n",
    "        return \"Car engine started\"\n",
    "\n",
    "class Bike(Vehicle):\n",
    "    def start_engine(self):\n",
    "        return \"Bike engine started\"\n",
    "    \n",
    "def show_engine_started(vehicle):\n",
    "    print(vehicle.start_engine())\n",
    "\n",
    "c1 = Car()\n",
    "show_engine_started(c1)\n",
    "b1 = Bike()\n",
    "show_engine_started(b1)\n"
   ]
  }
 ],
 "metadata": {
  "kernelspec": {
   "display_name": "Python 3",
   "language": "python",
   "name": "python3"
  },
  "language_info": {
   "codemirror_mode": {
    "name": "ipython",
    "version": 3
   },
   "file_extension": ".py",
   "mimetype": "text/x-python",
   "name": "python",
   "nbconvert_exporter": "python",
   "pygments_lexer": "ipython3",
   "version": "3.12.5"
  }
 },
 "nbformat": 4,
 "nbformat_minor": 2
}
