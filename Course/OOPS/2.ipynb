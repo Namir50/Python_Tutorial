{
 "cells": [
  {
   "cell_type": "markdown",
   "metadata": {},
   "source": [
    "<h3>The property of a class to inherit the attributes and methods of another class is known as inheritance<h3>"
   ]
  },
  {
   "cell_type": "code",
   "execution_count": 6,
   "metadata": {},
   "outputs": [
    {
     "name": "stdout",
     "output_type": "stream",
     "text": [
      "Tesla aupports selfdriving: True\n"
     ]
    }
   ],
   "source": [
    "class Car:\n",
    "    def __init__(self,windows,airbags,enginetype):\n",
    "        self.windows = windows\n",
    "        self.airbags = airbags\n",
    "        self.enginetype = enginetype\n",
    "        \n",
    "class Tesla(Car):\n",
    "    def __init__(self,windows,airbags,enginetype,selfdriving):\n",
    "        super().__init__(windows,airbags,enginetype)\n",
    "        self.selfdriving = selfdriving\n",
    "    \n",
    "    def show_selfdriving(self):\n",
    "        print(f\"Tesla aupports selfdriving: {self.selfdriving}\")\n",
    "\n",
    "tesla = Tesla(4,2,'electric',True)\n",
    "tesla.show_selfdriving()\n"
   ]
  },
  {
   "cell_type": "code",
   "execution_count": null,
   "metadata": {},
   "outputs": [],
   "source": [
    "class Animal:\n",
    "    def __init__(self,breed,color):\n",
    "        self.breed = breed\n",
    "        self.color = color\n",
    "\n",
    "class Dog(Animal):\n",
    "    def __init__(self,breed,color,owner_name):\n",
    "        super().__init__(self,breed,color)\n",
    "        self.owner_name = owner_name\n",
    "    \n",
    "    def show_details(self):\n",
    "        print(f\"The Dog's breed is {self.breed}, the color is {self.color} and its owner is {self.owner_name}\")\n",
    "\n",
    "class Cat(Animal):\n",
    "    def __init__(self,breed,color,owner_name):\n",
    "        super().__init__\n",
    "                  "
   ]
  }
 ],
 "metadata": {
  "kernelspec": {
   "display_name": "Python 3",
   "language": "python",
   "name": "python3"
  },
  "language_info": {
   "codemirror_mode": {
    "name": "ipython",
    "version": 3
   },
   "file_extension": ".py",
   "mimetype": "text/x-python",
   "name": "python",
   "nbconvert_exporter": "python",
   "pygments_lexer": "ipython3",
   "version": "3.12.5"
  }
 },
 "nbformat": 4,
 "nbformat_minor": 2
}
