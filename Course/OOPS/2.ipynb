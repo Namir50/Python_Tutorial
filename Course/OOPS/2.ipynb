{
 "cells": [
  {
   "cell_type": "markdown",
   "metadata": {},
   "source": [
    "<h3>The property of a class to inherit the attributes and methods of another class is known as inheritance<h3>"
   ]
  },
  {
   "cell_type": "code",
   "execution_count": null,
   "metadata": {},
   "outputs": [],
   "source": [
    "class Car:\n",
    "    def __init__(self,windows,airbags,enginetype):\n",
    "        self.windows = windows\n",
    "        self.airbags = airbags\n",
    "        self.enginetype = enginetype\n",
    "        \n",
    "class Tesla(Car):\n",
    "    def __init__(self,windows,airbags,enginetype,selfdriving):\n",
    "        super().__init__(windows,airbags,enginetype)\n",
    "        self.selfdriving = selfdriving\n",
    "        \n"
   ]
  }
 ],
 "metadata": {
  "language_info": {
   "name": "python"
  }
 },
 "nbformat": 4,
 "nbformat_minor": 2
}
