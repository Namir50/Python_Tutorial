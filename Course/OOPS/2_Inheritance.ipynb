{
 "cells": [
  {
   "cell_type": "markdown",
   "metadata": {},
   "source": [
    "<h3>The property of a class to inherit the attributes and methods of another class is known as inheritance<h3>"
   ]
  },
  {
   "cell_type": "code",
   "execution_count": 6,
   "metadata": {},
   "outputs": [
    {
     "name": "stdout",
     "output_type": "stream",
     "text": [
      "Tesla aupports selfdriving: True\n"
     ]
    }
   ],
   "source": [
    "class Car:\n",
    "    def __init__(self,windows,airbags,enginetype):\n",
    "        self.windows = windows\n",
    "        self.airbags = airbags\n",
    "        self.enginetype = enginetype\n",
    "        \n",
    "class Tesla(Car):\n",
    "    def __init__(self,windows,airbags,enginetype,selfdriving):\n",
    "        super().__init__(windows,airbags,enginetype)\n",
    "        self.selfdriving = selfdriving\n",
    "    \n",
    "    def show_selfdriving(self):\n",
    "        print(f\"Tesla aupports selfdriving: {self.selfdriving}\")\n",
    "\n",
    "tesla = Tesla(4,2,'electric',True)\n",
    "tesla.show_selfdriving()\n"
   ]
  },
  {
   "cell_type": "code",
   "execution_count": 5,
   "metadata": {},
   "outputs": [
    {
     "name": "stdout",
     "output_type": "stream",
     "text": [
      "The Cat's breed is domestic, the color is white and its owner is namir\n",
      "The Dog's breed is german, the color is yellow and its owner is namir\n"
     ]
    }
   ],
   "source": [
    "class Animal:\n",
    "    def __init__(self,breed,color):\n",
    "        self.breed = breed\n",
    "        self.color = color\n",
    "\n",
    "class Dog(Animal):\n",
    "    def __init__(self,breed,color,owner_name):\n",
    "        super().__init__(breed,color)\n",
    "        self.owner_name = owner_name\n",
    "    \n",
    "    def show_details(self):\n",
    "        print(f\"The Dog's breed is {self.breed}, the color is {self.color} and its owner is {self.owner_name}\")\n",
    "\n",
    "class Cat(Animal):\n",
    "    def __init__(self,breed,color,owner_name):\n",
    "        super().__init__(breed,color)\n",
    "        self.owner_name = owner_name\n",
    "        \n",
    "    def show_details(self):\n",
    "        print(f\"The Cat's breed is {self.breed}, the color is {self.color} and its owner is {self.owner_name}\")\n",
    "  \n",
    "for i in range(2):        \n",
    "  choice = input(\"For Cat of Dog\")\n",
    "  if choice == 'Cat' or  choice == 'cat':\n",
    "    cat_breed = input(\"Ennter breed of cat: \")\n",
    "    cat_color = input(\"Enter color of cat: \")\n",
    "    cat_owner = input(\"Enter owner name of cat: \")\n",
    "    c = Cat(cat_breed,cat_color,cat_owner) \n",
    "    c.show_details()\n",
    "  else:\n",
    "    dog_breed = input(\"Enter breed of dog: \")\n",
    "    dog_color = input(\"Enter color of dog: \")\n",
    "    dog_owner = input(\"Enter owner name of dog: \")\n",
    "    d = Dog(dog_breed,dog_color,dog_owner)\n",
    "    d.show_details()\n",
    "        "
   ]
  },
  {
   "cell_type": "markdown",
   "metadata": {},
   "source": [
    "<h4>Multiple Inheritance<h4>"
   ]
  },
  {
   "cell_type": "code",
   "execution_count": null,
   "metadata": {},
   "outputs": [],
   "source": [
    "#Base class 1\n",
    "class Faculty:\n",
    "    def __init__(self,joining_date,id_no):\n",
    "        self.joining_date= joining_date\n",
    "        self.id_no = id_no\n",
    "\n",
    "#Base class 2\n",
    "class Teaching_staff:\n",
    "    def __init__(self,subject, cabin_no):\n",
    "        self.subject = subject\n",
    "        self.cabin_no = cabin_no\n",
    "\n",
    "#Derived class:\n",
    "class Professor(Teaching_staff, Faculty):\n",
    "    def __init__(self,name,age,subject,id_no,cabin_no,joining_date):\n",
    "        Faculty.__init__(joining_date,id_no)\n",
    "        Teaching_staff.__init__(subject,cabin_no)\n",
    "        self.name = name\n",
    "        self.age = age\n",
    "    \n",
    "    def display_details(self):\n",
    "        print(f\"Name: {self.name}\",end = \"\")\n",
    "        print(f\"Age: {self.age}\")\n",
    "        print(f\"Subject: {self.subject}\")\n",
    "        print(f\"ID: {self.id_no}\")\n",
    "        print(f\"Cabin: {self.cabin_no}\")\n",
    "        print(f\"Date of joining: {self.joining_date}\")\n",
    "\n",
    "name = input(print(\"Enter name of the teacher: \"))\n",
    "age = int(input(\"Enter age of the teacher: \"))\n",
    "subject = input(\"Enter subject/subjects the teacher teaches\")\n",
    "id = int(input(\"Enter id number of the teacher\"))\n",
    "cabin = int(input(\"Enter cabin number of the te\"))\n"
   ]
  }
 ],
 "metadata": {
  "kernelspec": {
   "display_name": "Python 3",
   "language": "python",
   "name": "python3"
  },
  "language_info": {
   "codemirror_mode": {
    "name": "ipython",
    "version": 3
   },
   "file_extension": ".py",
   "mimetype": "text/x-python",
   "name": "python",
   "nbconvert_exporter": "python",
   "pygments_lexer": "ipython3",
   "version": "3.12.5"
  }
 },
 "nbformat": 4,
 "nbformat_minor": 2
}
