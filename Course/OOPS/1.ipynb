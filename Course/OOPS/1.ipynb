{
 "cells": [
  {
   "cell_type": "markdown",
   "metadata": {},
   "source": [
    "<h4>A class is a blueprint for creating objects, attributes and methods<h4>"
   ]
  },
  {
   "cell_type": "code",
   "execution_count": 8,
   "metadata": {},
   "outputs": [
    {
     "name": "stdout",
     "output_type": "stream",
     "text": [
      "Hello\n",
      "22\n",
      "<class 'type'>\n",
      "<class '__main__.example'>\n"
     ]
    }
   ],
   "source": [
    "class example:\n",
    "    def word(x,y,z):\n",
    "        print(\"Hello\")\n",
    "        print(y+z)\n",
    "        \n",
    "\n",
    "o1= example()\n",
    "\n",
    "o1.word(10,12)\n",
    "print(type(example))\n",
    "print(type(o1))"
   ]
  },
  {
   "cell_type": "code",
   "execution_count": 12,
   "metadata": {},
   "outputs": [
    {
     "name": "stdout",
     "output_type": "stream",
     "text": [
      "The name of Car is: Audi\n",
      "4\n"
     ]
    }
   ],
   "source": [
    "class Car:\n",
    "    def Carname(self,name):\n",
    "        print(f\"The name of Car is: {name}\")\n",
    "\n",
    "o1 = Car()\n",
    "o1.Carname(\"Audi\")\n",
    "o1.windows = 4\n",
    "print(o1.windows)"
   ]
  },
  {
   "cell_type": "code",
   "execution_count": 15,
   "metadata": {},
   "outputs": [
    {
     "name": "stdout",
     "output_type": "stream",
     "text": [
      "<__main__.Dog object at 0x00000201E9554E00>\n",
      "Tom\n",
      "3\n"
     ]
    }
   ],
   "source": [
    "class Dog:\n",
    "    def __init__(self,name,age):\n",
    "        self.name = name\n",
    "        self.age = age\n",
    "\n",
    "dog1 = Dog(\"Tom\",3)\n",
    "print(dog1)\n",
    "print(dog1.name)\n",
    "print(dog1.age)\n"
   ]
  },
  {
   "cell_type": "code",
   "execution_count": 28,
   "metadata": {},
   "outputs": [
    {
     "name": "stdout",
     "output_type": "stream",
     "text": [
      "Name is Tom and age is 20\n",
      "Name is Ginger and age is 3\n"
     ]
    }
   ],
   "source": [
    "class Animal:\n",
    "    def __init__(self,name,age):\n",
    "        self.name = name\n",
    "        self.age = age\n",
    "    \n",
    "    class Dog:\n",
    "        def details(self):\n",
    "            self.name = 'Tom'\n",
    "            self.age = 20\n",
    "        def printing(self):\n",
    "            print(f\"Name is {self.name} and age is {self.age}\")\n",
    "    \n",
    "    class Cat:\n",
    "        def details(self):\n",
    "            self.name = 'Ginger'\n",
    "            self.age = 3\n",
    "        def printing(self):\n",
    "            print(f\"Name is {self.name} and age is {self.age}\")\n",
    "            \n",
    "a1 = Animal.Dog()\n",
    "a2 = Animal.Cat()\n",
    "a1.details()\n",
    "a2.details()\n",
    "a1.printing()\n",
    "a2.printing()   "
   ]
  },
  {
   "cell_type": "code",
   "execution_count": null,
   "metadata": {},
   "outputs": [],
   "source": []
  }
 ],
 "metadata": {
  "kernelspec": {
   "display_name": "Python 3",
   "language": "python",
   "name": "python3"
  },
  "language_info": {
   "codemirror_mode": {
    "name": "ipython",
    "version": 3
   },
   "file_extension": ".py",
   "mimetype": "text/x-python",
   "name": "python",
   "nbconvert_exporter": "python",
   "pygments_lexer": "ipython3",
   "version": "3.12.5"
  }
 },
 "nbformat": 4,
 "nbformat_minor": 2
}
