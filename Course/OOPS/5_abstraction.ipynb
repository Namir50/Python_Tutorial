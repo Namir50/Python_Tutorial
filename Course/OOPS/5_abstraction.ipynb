{
 "cells": [
  {
   "cell_type": "markdown",
   "metadata": {},
   "source": [
    "<h3>Abstraction</h3>\n",
    "<h5>Abstraction is the concept of hiding the complex ijmplementation details and showing only the necessary features of an \n",
    "object. This helps in reducing programming complexity and effors</h5>"
   ]
  },
  {
   "cell_type": "code",
   "execution_count": null,
   "metadata": {},
   "outputs": [
    {
     "name": "stdout",
     "output_type": "stream",
     "text": [
      "The car is revving\n"
     ]
    }
   ],
   "source": [
    "from abc import ABC, abstractmethod\n",
    "\n",
    "class Vehicle(ABC):\n",
    "    def drive(self):\n",
    "        print(\"Drive the vehicle\")\n",
    "    \n",
    "    @abstractmethod     #this method is basically an option for the derive class to use\n",
    "    def make_sound(self):\n",
    "        pass     \n",
    "\n",
    "class Car(Vehicle):\n",
    "    def make_sound(self):\n",
    "        print(\"The car is revving\")\n",
    "\n",
    "def operate(vehicle):\n",
    "    vehicle.make_sound()\n",
    "    \n",
    "c1 = Car()\n",
    "operate(c1)\n",
    "\n"
   ]
  },
  {
   "cell_type": "code",
   "execution_count": null,
   "metadata": {},
   "outputs": [],
   "source": []
  }
 ],
 "metadata": {
  "kernelspec": {
   "display_name": "Python 3",
   "language": "python",
   "name": "python3"
  },
  "language_info": {
   "codemirror_mode": {
    "name": "ipython",
    "version": 3
   },
   "file_extension": ".py",
   "mimetype": "text/x-python",
   "name": "python",
   "nbconvert_exporter": "python",
   "pygments_lexer": "ipython3",
   "version": "3.12.5"
  }
 },
 "nbformat": 4,
 "nbformat_minor": 2
}
