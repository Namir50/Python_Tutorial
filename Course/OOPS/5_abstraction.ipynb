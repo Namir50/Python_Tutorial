{
 "cells": [
  {
   "cell_type": "markdown",
   "metadata": {},
   "source": [
    "<h3>Abstraction</h3>\n",
    "<h5>Abstraction is the concept of hiding the complex ijmplementation details and showing only the necessary features of an \n",
    "object. This helps in reducing programming complexity and effors</h5>"
   ]
  }
 ],
 "metadata": {
  "language_info": {
   "name": "python"
  }
 },
 "nbformat": 4,
 "nbformat_minor": 2
}
