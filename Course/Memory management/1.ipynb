{
 "cells": [
  {
   "cell_type": "markdown",
   "metadata": {},
   "source": [
    "Memory management in python involves a combination of automatic garbage collection, reference counting, and various internal otimizations to efficiently manage memory allocation and deallocation. Understanding these machanisms can help devs write more efficient and robust applications"
   ]
  },
  {
   "cell_type": "markdown",
   "metadata": {},
   "source": [
    "#### Reference counting:\n",
    "Reference counting is the primary method python uses to manage memory. Each object in python maintains a count of referenes pointing to it. When the reference count drops to zero, the memory occupied by the object is deallocated"
   ]
  },
  {
   "cell_type": "code",
   "execution_count": 9,
   "metadata": {},
   "outputs": [
    {
     "name": "stdout",
     "output_type": "stream",
     "text": [
      "2\n"
     ]
    }
   ],
   "source": [
    "import sys\n",
    "\n",
    "a = []\n",
    "print(sys.getrefcount(a))  #it will print 2 as one from 'a' variable and other from the getfercount function"
   ]
  },
  {
   "cell_type": "code",
   "execution_count": 10,
   "metadata": {},
   "outputs": [
    {
     "name": "stdout",
     "output_type": "stream",
     "text": [
      "3\n"
     ]
    }
   ],
   "source": [
    "b = a\n",
    "print(sys.getrefcount(a))"
   ]
  },
  {
   "cell_type": "code",
   "execution_count": 11,
   "metadata": {},
   "outputs": [
    {
     "name": "stdout",
     "output_type": "stream",
     "text": [
      "2\n"
     ]
    }
   ],
   "source": [
    "del b \n",
    "print(sys.getrefcount(a))"
   ]
  },
  {
   "cell_type": "markdown",
   "metadata": {},
   "source": [
    "#### Garbage collection\n",
    "Pytgon includes a cyclic garbage collector to handle reference cycles. Reference cycles occur when objects reference each other, preventing their reference counts from reaching zero"
   ]
  },
  {
   "cell_type": "code",
   "execution_count": 12,
   "metadata": {},
   "outputs": [],
   "source": [
    "import gc\n",
    "\n",
    "#enable garbafe collection\n",
    "gc.enable()"
   ]
  },
  {
   "cell_type": "code",
   "execution_count": 13,
   "metadata": {},
   "outputs": [],
   "source": [
    "gc.disable()"
   ]
  },
  {
   "cell_type": "code",
   "execution_count": 14,
   "metadata": {},
   "outputs": [
    {
     "data": {
      "text/plain": [
       "0"
      ]
     },
     "execution_count": 14,
     "metadata": {},
     "output_type": "execute_result"
    }
   ],
   "source": [
    "gc.collect()  #returns unreachable objects"
   ]
  },
  {
   "cell_type": "code",
   "execution_count": 15,
   "metadata": {},
   "outputs": [
    {
     "name": "stdout",
     "output_type": "stream",
     "text": [
      "[{'collections': 186, 'collected': 1734, 'uncollectable': 0}, {'collections': 16, 'collected': 305, 'uncollectable': 0}, {'collections': 5, 'collected': 218, 'uncollectable': 0}]\n"
     ]
    }
   ],
   "source": [
    "print(gc.get_stats())"
   ]
  },
  {
   "cell_type": "markdown",
   "metadata": {},
   "source": [
    "#### Memory management best practices\n",
    "1. Use local variables: Local variables have a shorter lifespan and are freed sooner than global variables\n",
    "2. Avoid circular references: circular references(e.g. a=b,b=c,...) can lead to memory leaks if not properly managed\n",
    "3. Use Generators: generators produce items one at a time and only keep one item in memory at a time making them memoryy efficient\n",
    "4. Explicitly delete objects: use the del statement to delete variables and objects explicitly\n",
    "5. Profile memory usage: use memory profiling tools like tracemalloc and memory_profiler to identify memory leaks and optimize memory usage"
   ]
  },
  {
   "cell_type": "code",
   "execution_count": 10,
   "metadata": {},
   "outputs": [
    {
     "name": "stdout",
     "output_type": "stream",
     "text": [
      "Objects OBJ1 created\n",
      "Objects OBJ2 created\n",
      "Object OBJ1 deleted\n",
      "Object OBJ2 deleted\n"
     ]
    },
    {
     "data": {
      "text/plain": [
       "9"
      ]
     },
     "execution_count": 10,
     "metadata": {},
     "output_type": "execute_result"
    }
   ],
   "source": [
    "import gc\n",
    "\n",
    "class MyObject:\n",
    "    def __init__(self,name):\n",
    "        self.name = name\n",
    "        print(f\"Objects {self.name} created\")\n",
    "    \n",
    "    def __del__(self):\n",
    "        print(f\"Object {self.name} deleted\")\n",
    "        \n",
    "obj1 = MyObject(\"OBJ1\")\n",
    "obj2 = MyObject(\"OBJ2\")\n",
    "\n",
    "#Making circular reference(wh|ich should be avoided)\n",
    "obj1.ref = obj2\n",
    "obj2.ref = obj1\n",
    "\n",
    "del obj1\n",
    "del obj2\n",
    "\n",
    "gc.collect()\n"
   ]
  },
  {
   "cell_type": "code",
   "execution_count": null,
   "metadata": {},
   "outputs": [],
   "source": []
  }
 ],
 "metadata": {
  "kernelspec": {
   "display_name": "Python 3",
   "language": "python",
   "name": "python3"
  },
  "language_info": {
   "codemirror_mode": {
    "name": "ipython",
    "version": 3
   },
   "file_extension": ".py",
   "mimetype": "text/x-python",
   "name": "python",
   "nbconvert_exporter": "python",
   "pygments_lexer": "ipython3",
   "version": "3.11.9"
  }
 },
 "nbformat": 4,
 "nbformat_minor": 2
}
