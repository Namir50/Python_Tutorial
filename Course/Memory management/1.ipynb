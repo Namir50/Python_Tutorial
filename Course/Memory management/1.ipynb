{
 "cells": [
  {
   "cell_type": "markdown",
   "metadata": {},
   "source": [
    "Memory management in python involves a combination of automatic garbage collection, reference counting, and various internal otimizations t efficiently manage memory allocation and deallocation. Understanding these machanisms can help devs write more efficient and robust applications"
   ]
  }
 ],
 "metadata": {
  "language_info": {
   "name": "python"
  }
 },
 "nbformat": 4,
 "nbformat_minor": 2
}
